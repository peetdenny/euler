{
 "cells": [
  {
   "cell_type": "code",
   "execution_count": 1,
   "metadata": {},
   "outputs": [],
   "source": [
    "%load_ext autoreload\n",
    "%autoreload 2"
   ]
  },
  {
   "cell_type": "code",
   "execution_count": 2,
   "metadata": {},
   "outputs": [],
   "source": [
    "import math\n",
    "import sys\n",
    "sys.path.append(\"../euler/\")\n",
    "from m37.math import factors"
   ]
  },
  {
   "cell_type": "code",
   "execution_count": 3,
   "metadata": {},
   "outputs": [],
   "source": [
    "def find_nth_triangular_number(n):\n",
    "    return int((n * (n+1))/2)"
   ]
  },
  {
   "cell_type": "code",
   "execution_count": 4,
   "metadata": {},
   "outputs": [
    {
     "name": "stdout",
     "output_type": "stream",
     "text": [
      "triangular number 1:, has 1 divisors\n",
      "triangular number 3:, has 2 divisors\n",
      "triangular number 6:, has 4 divisors\n",
      "triangular number 28:, has 6 divisors\n",
      "triangular number 36:, has 9 divisors\n",
      "triangular number 120:, has 16 divisors\n",
      "triangular number 300:, has 18 divisors\n",
      "triangular number 528:, has 20 divisors\n",
      "triangular number 630:, has 24 divisors\n",
      "triangular number 2016:, has 36 divisors\n",
      "triangular number 3240:, has 40 divisors\n",
      "triangular number 5460:, has 48 divisors\n",
      "triangular number 25200:, has 90 divisors\n",
      "triangular number 73920:, has 112 divisors\n",
      "triangular number 157080:, has 128 divisors\n",
      "triangular number 437580:, has 144 divisors\n",
      "triangular number 749700:, has 162 divisors\n",
      "triangular number 1385280:, has 168 divisors\n",
      "triangular number 1493856:, has 192 divisors\n",
      "triangular number 2031120:, has 240 divisors\n",
      "triangular number 2162160:, has 320 divisors\n",
      "triangular number 17907120:, has 480 divisors\n",
      "triangular number 76576500:, has 576 divisors\n"
     ]
    }
   ],
   "source": [
    "m = 0\n",
    "for i in range(15000):\n",
    "    t = find_nth_triangular_number(i)\n",
    "    d = len(factors.get_divisors(t))\n",
    "    if d > m:\n",
    "        print(\"triangular number %i:, has %s divisors\" % (t,d))\n",
    "        m = d\n",
    "        if d >=500:\n",
    "            break\n",
    "    "
   ]
  },
  {
   "cell_type": "code",
   "execution_count": null,
   "metadata": {},
   "outputs": [],
   "source": []
  }
 ],
 "metadata": {
  "kernelspec": {
   "display_name": "Python 3",
   "language": "python",
   "name": "python3"
  },
  "language_info": {
   "codemirror_mode": {
    "name": "ipython",
    "version": 3
   },
   "file_extension": ".py",
   "mimetype": "text/x-python",
   "name": "python",
   "nbconvert_exporter": "python",
   "pygments_lexer": "ipython3",
   "version": "3.7.3"
  }
 },
 "nbformat": 4,
 "nbformat_minor": 2
}
