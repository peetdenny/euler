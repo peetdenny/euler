{
 "cells": [
  {
   "cell_type": "markdown",
   "metadata": {},
   "source": [
    "# Find the 10,001st prime"
   ]
  },
  {
   "cell_type": "code",
   "execution_count": 8,
   "metadata": {},
   "outputs": [
    {
     "name": "stdout",
     "output_type": "stream",
     "text": [
      "prime 10001 found 104743\r"
     ]
    },
    {
     "data": {
      "text/plain": [
       "10001"
      ]
     },
     "execution_count": 8,
     "metadata": {},
     "output_type": "execute_result"
    }
   ],
   "source": [
    "primes = [2]\n",
    "complex = []\n",
    "    \n",
    "def fill_seive(m,n):\n",
    "        i=2\n",
    "        while i * m <= n:\n",
    "            complex.append(i * m)\n",
    "            i +=1\n",
    "    \n",
    "def find_primes(n):\n",
    "    i=0\n",
    "    debug = 100\n",
    "    candidate = primes[i]\n",
    "    while candidate < n:\n",
    "        fill_seive(candidate,n)\n",
    "        candidate += 1\n",
    "        if candidate not in complex:\n",
    "            primes.append(candidate)\n",
    "            print(\"prime %s found %s\" % (len(primes), candidate), end=\"\\r\", flush=True)\n",
    "            if len(primes) >=10001:\n",
    "                break\n",
    "\n",
    "    \n",
    "find_primes(200000)\n",
    "len(primes)"
   ]
  },
  {
   "cell_type": "code",
   "execution_count": null,
   "metadata": {},
   "outputs": [],
   "source": []
  }
 ],
 "metadata": {
  "kernelspec": {
   "display_name": "Python 3",
   "language": "python",
   "name": "python3"
  },
  "language_info": {
   "codemirror_mode": {
    "name": "ipython",
    "version": 3
   },
   "file_extension": ".py",
   "mimetype": "text/x-python",
   "name": "python",
   "nbconvert_exporter": "python",
   "pygments_lexer": "ipython3",
   "version": "3.7.3"
  }
 },
 "nbformat": 4,
 "nbformat_minor": 2
}
