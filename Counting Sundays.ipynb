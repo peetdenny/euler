{
 "cells": [
  {
   "cell_type": "markdown",
   "metadata": {},
   "source": [
    "There are 100 years in a century, and 12 months per year, so we're dealing with 120 months.\n",
    "This can be represented as a sequence of month lenghts [31,28,31...] etc.\n",
    "One solution would be to create a generator that created a sequence like this for each year, and modified Feb for leap years. You could then just total up the total days that had elapsed since Jan 1st 1901 and modulo 7 it."
   ]
  },
  {
   "cell_type": "code",
   "execution_count": 65,
   "metadata": {},
   "outputs": [],
   "source": [
    "def get_month_lengths(year):\n",
    "    feb = 28\n",
    "    if (year % 4 == 0) and (year != 1900):\n",
    "        feb = 29\n",
    "\n",
    "    return [31,feb,31,30,31,30,31,31,30,31,30,31]\n",
    "\n",
    "assert get_month_lengths(1900)[1] == 28\n",
    "assert get_month_lengths(2000)[1] == 29"
   ]
  },
  {
   "cell_type": "code",
   "execution_count": 66,
   "metadata": {},
   "outputs": [
    {
     "data": {
      "text/plain": [
       "171"
      ]
     },
     "execution_count": 66,
     "metadata": {},
     "output_type": "execute_result"
    }
   ],
   "source": [
    "total_mondays = 0\n",
    "total_days_from_start=1\n",
    "for year in range(1900, 2001):\n",
    "    for i, m in enumerate(get_month_lengths(year)):\n",
    "        if year > 1900 and total_days_from_start % 7 ==0:\n",
    "            # print(\"1st %s %s was a Monday\" %(months[i], year))\n",
    "            total_mondays+=1\n",
    "        total_days_from_start += m\n",
    "total_mondays"
   ]
  },
  {
   "cell_type": "code",
   "execution_count": 63,
   "metadata": {},
   "outputs": [
    {
     "name": "stdout",
     "output_type": "stream",
     "text": [
      "1999\n",
      "2000\n"
     ]
    }
   ],
   "source": [
    "for n in range(1999,2001):\n",
    "    print(n)"
   ]
  },
  {
   "cell_type": "code",
   "execution_count": null,
   "metadata": {},
   "outputs": [],
   "source": []
  }
 ],
 "metadata": {
  "kernelspec": {
   "display_name": "Python 3",
   "language": "python",
   "name": "python3"
  },
  "language_info": {
   "codemirror_mode": {
    "name": "ipython",
    "version": 3
   },
   "file_extension": ".py",
   "mimetype": "text/x-python",
   "name": "python",
   "nbconvert_exporter": "python",
   "pygments_lexer": "ipython3",
   "version": "3.7.3"
  }
 },
 "nbformat": 4,
 "nbformat_minor": 2
}
