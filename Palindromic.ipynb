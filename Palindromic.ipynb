{
 "cells": [
  {
   "cell_type": "markdown",
   "metadata": {},
   "source": [
    "# Find the largest palindrome made from the product of two 3-digit numbers. "
   ]
  },
  {
   "cell_type": "code",
   "execution_count": 61,
   "metadata": {},
   "outputs": [],
   "source": [
    "def is_palindromic(candidate_int):\n",
    "    candidate = str(candidate_int)\n",
    "    split_str = None\n",
    "    if len(candidate) % 2 ==0:\n",
    "        split_str = (candidate[0:int(len(candidate)/2)], candidate[int((len(candidate)/2)):len(candidate)])\n",
    "    else:\n",
    "        split_str = (candidate[0:int(len(candidate)/2)], candidate[int((len(candidate)/2)+1):len(candidate)])\n",
    "    return split_str[0] == split_str[1][::-1]"
   ]
  },
  {
   "cell_type": "code",
   "execution_count": 62,
   "metadata": {},
   "outputs": [],
   "source": [
    "assert is_palindromic(51015)\n",
    "assert is_palindromic(9000000009)\n",
    "assert not is_palindromic(5151)\n",
    "assert is_palindromic(\"ABBA\")\n",
    "assert not is_palindromic(\"Falaffal\")\n",
    "assert is_palindromic(\"amanaplanacanalpanama\")"
   ]
  },
  {
   "cell_type": "code",
   "execution_count": null,
   "metadata": {},
   "outputs": [],
   "source": []
  },
  {
   "cell_type": "code",
   "execution_count": 63,
   "metadata": {},
   "outputs": [
    {
     "name": "stdout",
     "output_type": "stream",
     "text": [
      "913 993\n"
     ]
    }
   ],
   "source": [
    "a = 999\n",
    "b = 999\n",
    "while(not is_palindromic(a * b)):\n",
    "    a -=1\n",
    "    if (a < 750):\n",
    "        a = 999\n",
    "        b -=1\n",
    "    \n",
    "print(a,b)"
   ]
  },
  {
   "cell_type": "code",
   "execution_count": 64,
   "metadata": {},
   "outputs": [
    {
     "data": {
      "text/plain": [
       "906609"
      ]
     },
     "execution_count": 64,
     "metadata": {},
     "output_type": "execute_result"
    }
   ],
   "source": [
    "913 * 993"
   ]
  },
  {
   "cell_type": "code",
   "execution_count": null,
   "metadata": {},
   "outputs": [],
   "source": []
  }
 ],
 "metadata": {
  "kernelspec": {
   "display_name": "Python 3",
   "language": "python",
   "name": "python3"
  },
  "language_info": {
   "codemirror_mode": {
    "name": "ipython",
    "version": 3
   },
   "file_extension": ".py",
   "mimetype": "text/x-python",
   "name": "python",
   "nbconvert_exporter": "python",
   "pygments_lexer": "ipython3",
   "version": "3.7.3"
  }
 },
 "nbformat": 4,
 "nbformat_minor": 2
}
