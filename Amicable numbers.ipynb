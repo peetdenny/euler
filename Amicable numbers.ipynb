{
 "cells": [
  {
   "cell_type": "code",
   "execution_count": 20,
   "metadata": {},
   "outputs": [],
   "source": [
    "from m37.math import factors\n",
    "\n",
    "def sum_proper_divisors(n):\n",
    "    d = factors.get_divisors(n)\n",
    "    if len(d) <1:\n",
    "        return 0\n",
    "    d.sort()\n",
    "    d.pop()\n",
    "    return sum(d)"
   ]
  },
  {
   "cell_type": "code",
   "execution_count": 21,
   "metadata": {},
   "outputs": [],
   "source": [
    "divisors = {}\n",
    "amis = []\n",
    "for i in range(1,10000):\n",
    "    s = sum_proper_divisors(i)\n",
    "    divisors[i] = s\n",
    "    # if d(n) < n, then we should already have a record of d(d(n))\n",
    "    if s < i and s in divisors and divisors[s] == i:\n",
    "        amis.append(s)\n",
    "        amis.append(i)\n",
    "\n",
    "                            \n",
    "        \n",
    "\n",
    "    "
   ]
  },
  {
   "cell_type": "code",
   "execution_count": 22,
   "metadata": {},
   "outputs": [
    {
     "data": {
      "text/plain": [
       "31626"
      ]
     },
     "execution_count": 22,
     "metadata": {},
     "output_type": "execute_result"
    }
   ],
   "source": [
    "sum(amis)"
   ]
  }
 ],
 "metadata": {
  "kernelspec": {
   "display_name": "Python 3",
   "language": "python",
   "name": "python3"
  },
  "language_info": {
   "codemirror_mode": {
    "name": "ipython",
    "version": 3
   },
   "file_extension": ".py",
   "mimetype": "text/x-python",
   "name": "python",
   "nbconvert_exporter": "python",
   "pygments_lexer": "ipython3",
   "version": "3.7.3"
  }
 },
 "nbformat": 4,
 "nbformat_minor": 2
}
