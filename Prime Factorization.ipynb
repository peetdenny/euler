{
 "cells": [
  {
   "cell_type": "code",
   "execution_count": 14,
   "metadata": {},
   "outputs": [],
   "source": [
    "from datetime import datetime, timedelta\n"
   ]
  },
  {
   "cell_type": "code",
   "execution_count": 28,
   "metadata": {},
   "outputs": [],
   "source": [
    "target = 600851475143"
   ]
  },
  {
   "cell_type": "code",
   "execution_count": 29,
   "metadata": {},
   "outputs": [
    {
     "name": "stdout",
     "output_type": "stream",
     "text": [
      "0:00:01.10449429\n",
      "Found factor!! -  71\n",
      "Found factor!! -  839\n",
      "Found factor!! -  1471\n",
      "Found factor!! -  6857\n"
     ]
    }
   ],
   "source": [
    "# using \"Sieve of Eratosthenes\" method\n",
    "\n",
    "primes = [2]\n",
    "complex = []\n",
    "    \n",
    "def fill_seive(m,n):\n",
    "        i=2\n",
    "        while i * m <= n:\n",
    "            complex.append(i * m)\n",
    "            i +=1\n",
    "    \n",
    "def find_primes(n):\n",
    "    i=0\n",
    "    debug = 100\n",
    "    candidate = primes[i]\n",
    "    while candidate < n:\n",
    "        fill_seive(candidate,n)\n",
    "        candidate += 1\n",
    "        if candidate not in complex:\n",
    "            primes.append(candidate)\n",
    "            if len(primes) % 30 ==0:\n",
    "                print(\"prime found %s\" % candidate, end=\"\\r\", flush=True)\n",
    "\n",
    "        \n",
    "    \n",
    "\n",
    "def find_prime_factors(n):\n",
    "    primes = find_primes(n)\n",
    "    print(\"ok then :) \")\n",
    "    \n",
    "start = datetime.now()\n",
    "find_primes(8000)\n",
    "end = datetime.now()\n",
    "delta = end - start\n",
    "print(delta)\n"
   ]
  },
  {
   "cell_type": "code",
   "execution_count": 30,
   "metadata": {},
   "outputs": [
    {
     "data": {
      "text/plain": [
       "87625999.0"
      ]
     },
     "execution_count": 30,
     "metadata": {},
     "output_type": "execute_result"
    }
   ],
   "source": [
    "600851475143 / 6857"
   ]
  },
  {
   "cell_type": "code",
   "execution_count": 32,
   "metadata": {},
   "outputs": [
    {
     "name": "stdout",
     "output_type": "stream",
     "text": [
      "Found factor!! -  71\n",
      "Found factor!! -  839\n",
      "Found factor!! -  1471\n",
      "Found factor!! -  6857\n",
      "Factors of 1.0 are : [71, 839, 1471, 6857]\n"
     ]
    }
   ],
   "source": [
    "factors=[]\n",
    "for prime in primes:\n",
    "    if target % prime ==0:\n",
    "        factors.append(prime)\n",
    "        print(\"Found factor!! - \",prime)\n",
    "        target = target / prime\n",
    "\n",
    "print(\"Factors of %s are :\" % target, factors)\n"
   ]
  },
  {
   "cell_type": "code",
   "execution_count": 33,
   "metadata": {},
   "outputs": [
    {
     "data": {
      "text/plain": [
       "600851475143"
      ]
     },
     "execution_count": 33,
     "metadata": {},
     "output_type": "execute_result"
    }
   ],
   "source": [
    "71 * 839 * 1471 * 6857"
   ]
  },
  {
   "cell_type": "code",
   "execution_count": null,
   "metadata": {},
   "outputs": [],
   "source": []
  }
 ],
 "metadata": {
  "kernelspec": {
   "display_name": "Python 3",
   "language": "python",
   "name": "python3"
  },
  "language_info": {
   "codemirror_mode": {
    "name": "ipython",
    "version": 3
   },
   "file_extension": ".py",
   "mimetype": "text/x-python",
   "name": "python",
   "nbconvert_exporter": "python",
   "pygments_lexer": "ipython3",
   "version": "3.7.3"
  }
 },
 "nbformat": 4,
 "nbformat_minor": 2
}
