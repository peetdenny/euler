{
 "cells": [
  {
   "cell_type": "markdown",
   "metadata": {},
   "source": [
    "# Largest product in grid"
   ]
  },
  {
   "cell_type": "code",
   "execution_count": 53,
   "metadata": {},
   "outputs": [],
   "source": [
    "import numpy as np\n",
    "from functools import reduce"
   ]
  },
  {
   "cell_type": "code",
   "execution_count": 21,
   "metadata": {},
   "outputs": [],
   "source": [
    "str=\"\"\"08 02 22 97 38 15 00 40 00 75 04 05 07 78 52 12 50 77 91 08\n",
    "49 49 99 40 17 81 18 57 60 87 17 40 98 43 69 48 04 56 62 00\n",
    "81 49 31 73 55 79 14 29 93 71 40 67 53 88 30 03 49 13 36 65\n",
    "52 70 95 23 04 60 11 42 69 24 68 56 01 32 56 71 37 02 36 91\n",
    "22 31 16 71 51 67 63 89 41 92 36 54 22 40 40 28 66 33 13 80\n",
    "24 47 32 60 99 03 45 02 44 75 33 53 78 36 84 20 35 17 12 50\n",
    "32 98 81 28 64 23 67 10 26 38 40 67 59 54 70 66 18 38 64 70\n",
    "67 26 20 68 02 62 12 20 95 63 94 39 63 08 40 91 66 49 94 21\n",
    "24 55 58 05 66 73 99 26 97 17 78 78 96 83 14 88 34 89 63 72\n",
    "21 36 23 09 75 00 76 44 20 45 35 14 00 61 33 97 34 31 33 95\n",
    "78 17 53 28 22 75 31 67 15 94 03 80 04 62 16 14 09 53 56 92\n",
    "16 39 05 42 96 35 31 47 55 58 88 24 00 17 54 24 36 29 85 57\n",
    "86 56 00 48 35 71 89 07 05 44 44 37 44 60 21 58 51 54 17 58\n",
    "19 80 81 68 05 94 47 69 28 73 92 13 86 52 17 77 04 89 55 40\n",
    "04 52 08 83 97 35 99 16 07 97 57 32 16 26 26 79 33 27 98 66\n",
    "88 36 68 87 57 62 20 72 03 46 33 67 46 55 12 32 63 93 53 69\n",
    "04 42 16 73 38 25 39 11 24 94 72 18 08 46 29 32 40 62 76 36\n",
    "20 69 36 41 72 30 23 88 34 62 99 69 82 67 59 85 74 04 36 16\n",
    "20 73 35 29 78 31 90 01 74 31 49 71 48 86 81 16 23 57 05 54\n",
    "01 70 54 71 83 51 54 69 16 92 33 48 61 43 52 01 89 19 67 48\"\"\"\n",
    "\n",
    "mat = []\n",
    "\n",
    "for line in str.splitlines():\n",
    "    row = line.split(\" \")\n",
    "    mat.append(row)\n",
    "m = np.asmatrix(mat, dtype=\"int\")\n",
    "assert m[19,19] == 48"
   ]
  },
  {
   "cell_type": "code",
   "execution_count": 56,
   "metadata": {},
   "outputs": [],
   "source": [
    "seq_length=4\n",
    "mat_width=m.shape[0]\n",
    "mat_height=m.shape[1]"
   ]
  },
  {
   "cell_type": "code",
   "execution_count": 102,
   "metadata": {},
   "outputs": [
    {
     "data": {
      "text/plain": [
       "[1, 73, 36, 73]"
      ]
     },
     "execution_count": 102,
     "metadata": {},
     "output_type": "execute_result"
    }
   ],
   "source": [
    "def get_horizontal_seq(start_node):\n",
    "    if start_node[1] + seq_length > mat_width:\n",
    "        return None\n",
    "    \n",
    "    seq = []\n",
    "    for i in range(seq_length):\n",
    "        seq.append(m[start_node[0],start_node[1]+i])\n",
    "    return seq\n",
    "\n",
    "\n",
    "def get_vertical_seq(start_node):\n",
    "    if start_node[0] + seq_length > mat_height:\n",
    "        return None\n",
    "    \n",
    "    seq = []\n",
    "    for i in range(seq_length):\n",
    "        seq.append(m[start_node[0]+i,start_node[1]])\n",
    "    return seq\n",
    "\n",
    "def get_down_right_diag_seq(start_node):\n",
    "    if (start_node[0] + seq_length > mat_width) or (start_node[1] + seq_length > mat_height):\n",
    "        return [0,0]\n",
    "    \n",
    "    seq = []\n",
    "    for i in range(seq_length):\n",
    "        seq.append(m[start_node[0]+i,start_node[1]+i])\n",
    "    return seq\n",
    "\n",
    "def get_down_left_diag_seq(start_node):\n",
    "    if (start_node[0] - (seq_length-1) < 0) or (start_node[1] + seq_length > mat_height):\n",
    "        return [0,0]\n",
    "    \n",
    "    seq = []\n",
    "    for i in range(seq_length):\n",
    "        seq.append(m[start_node[0]-i,start_node[1]+i])\n",
    "    return seq\n",
    "\n",
    "\n",
    "get_down_left_diag_seq([19,0])"
   ]
  },
  {
   "cell_type": "code",
   "execution_count": 103,
   "metadata": {},
   "outputs": [
    {
     "data": {
      "text/plain": [
       "70600674"
      ]
     },
     "execution_count": 103,
     "metadata": {},
     "output_type": "execute_result"
    }
   ],
   "source": [
    "# right and left are the same. So are up and down.\n",
    "def find_max():\n",
    "    maximum=0\n",
    "    for j in range(0, mat_height):\n",
    "        for i in range(0, mat_width-seq_length+1):\n",
    "            products = [\n",
    "               reduce(lambda x,y: x*y, get_horizontal_seq([j,i])),\n",
    "               reduce(lambda x,y: x*y, get_vertical_seq([i,j])),\n",
    "               reduce(lambda x,y: x*y, get_down_right_diag_seq([i,j])),\n",
    "               reduce(lambda x,y: x*y, get_down_left_diag_seq([j,i])),\n",
    "\n",
    "            ]\n",
    "            if max(products) > maximum:\n",
    "                maximum = max(products)\n",
    "                \n",
    "    return maximum\n",
    "\n",
    "find_max()\n",
    "    "
   ]
  },
  {
   "cell_type": "code",
   "execution_count": 69,
   "metadata": {},
   "outputs": [
    {
     "ename": "NameError",
     "evalue": "name 'math' is not defined",
     "output_type": "error",
     "traceback": [
      "\u001b[0;31m---------------------------------------------------------------------------\u001b[0m",
      "\u001b[0;31mNameError\u001b[0m                                 Traceback (most recent call last)",
      "\u001b[0;32m<ipython-input-69-70eded1a9616>\u001b[0m in \u001b[0;36m<module>\u001b[0;34m\u001b[0m\n\u001b[0;32m----> 1\u001b[0;31m \u001b[0mmath\u001b[0m\u001b[0;34m.\u001b[0m\u001b[0mmax\u001b[0m\u001b[0;34m(\u001b[0m\u001b[0;34m[\u001b[0m\u001b[0;36m1\u001b[0m\u001b[0;34m,\u001b[0m\u001b[0;36m2\u001b[0m\u001b[0;34m,\u001b[0m\u001b[0;36m3\u001b[0m\u001b[0;34m]\u001b[0m\u001b[0;34m)\u001b[0m\u001b[0;34m\u001b[0m\u001b[0;34m\u001b[0m\u001b[0m\n\u001b[0m",
      "\u001b[0;31mNameError\u001b[0m: name 'math' is not defined"
     ]
    }
   ],
   "source": [
    "math.max([1,2,3])"
   ]
  },
  {
   "cell_type": "code",
   "execution_count": null,
   "metadata": {},
   "outputs": [],
   "source": []
  }
 ],
 "metadata": {
  "kernelspec": {
   "display_name": "Python 3",
   "language": "python",
   "name": "python3"
  },
  "language_info": {
   "codemirror_mode": {
    "name": "ipython",
    "version": 3
   },
   "file_extension": ".py",
   "mimetype": "text/x-python",
   "name": "python",
   "nbconvert_exporter": "python",
   "pygments_lexer": "ipython3",
   "version": "3.7.3"
  }
 },
 "nbformat": 4,
 "nbformat_minor": 2
}
