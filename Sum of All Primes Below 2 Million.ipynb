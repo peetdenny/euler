{
 "cells": [
  {
   "cell_type": "markdown",
   "metadata": {},
   "source": [
    "# Find sum of all primes below 2,000,000"
   ]
  },
  {
   "cell_type": "code",
   "execution_count": 24,
   "metadata": {},
   "outputs": [],
   "source": [
    "from datetime import datetime, timedelta\n",
    "import sys\n",
    "import math"
   ]
  },
  {
   "cell_type": "code",
   "execution_count": 31,
   "metadata": {},
   "outputs": [],
   "source": [
    "def print_in_place(str):\n",
    "    print(str,end=\"\\r\", flush=True)"
   ]
  },
  {
   "cell_type": "code",
   "execution_count": 46,
   "metadata": {},
   "outputs": [],
   "source": [
    "import pdb"
   ]
  },
  {
   "cell_type": "code",
   "execution_count": 96,
   "metadata": {},
   "outputs": [
    {
     "name": "stdout",
     "output_type": "stream",
     "text": [
      "prime 148794 found 1998000\n",
      " 0:00:02.045111\n",
      "\n"
     ]
    }
   ],
   "source": [
    "primes = []\n",
    "composite = [False, False,]\n",
    "\n",
    "def init_seive(n):\n",
    "    for i in range(2, n):\n",
    "        composite.append(True)\n",
    "\n",
    "    for i in range(2, math.floor(math.sqrt(n))+1):\n",
    "        if composite[i]:\n",
    "            print_in_place(\"starting i= %s\"% i)\n",
    "            j=i**2\n",
    "            while j < n:\n",
    "                composite[j] = False\n",
    "                j+=i\n",
    "            print_in_place(\"finished i= %s\" % i)\n",
    "\n",
    "\n",
    "def find_primes(n):\n",
    "    init_seive(n)\n",
    "    i=0\n",
    "    debug = 1000\n",
    "    for i, is_prime in enumerate(composite):\n",
    "        if is_prime:\n",
    "            primes.append(i)\n",
    "            i+=1\n",
    "            if((i % debug)==0):\n",
    "                print(\"prime %s found %s\" % (len(primes), i), end=\"\\r\", flush=True)\n",
    "\n",
    "            \n",
    "start = datetime.now()\n",
    "find_primes(2000000)\n",
    "end = datetime.now()\n",
    "print(\"\\n\",end - start)\n",
    "print()\n"
   ]
  },
  {
   "cell_type": "code",
   "execution_count": 95,
   "metadata": {},
   "outputs": [
    {
     "data": {
      "text/plain": [
       "[999999937]"
      ]
     },
     "execution_count": 95,
     "metadata": {},
     "output_type": "execute_result"
    }
   ],
   "source": [
    "primes[-1:]"
   ]
  },
  {
   "cell_type": "markdown",
   "metadata": {},
   "source": [
    "This approach was able to find all the primes up to 1 billion in under 10 mins on my laptop.\n",
    "The last number in this sequence is: 999999937 :)"
   ]
  }
 ],
 "metadata": {
  "kernelspec": {
   "display_name": "Python 3",
   "language": "python",
   "name": "python3"
  },
  "language_info": {
   "codemirror_mode": {
    "name": "ipython",
    "version": 3
   },
   "file_extension": ".py",
   "mimetype": "text/x-python",
   "name": "python",
   "nbconvert_exporter": "python",
   "pygments_lexer": "ipython3",
   "version": "3.7.3"
  }
 },
 "nbformat": 4,
 "nbformat_minor": 2
}
