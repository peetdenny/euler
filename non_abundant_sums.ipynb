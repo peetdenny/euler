{
 "cells": [
  {
   "cell_type": "code",
   "execution_count": 162,
   "metadata": {},
   "outputs": [],
   "source": [
    "from m37.math import amicable\n",
    "from m37.math import factors\n",
    "from m37.util.print import print_in_place\n",
    "from matplotlib import pyplot as plt\n",
    "from functools import reduce"
   ]
  },
  {
   "cell_type": "code",
   "execution_count": 159,
   "metadata": {},
   "outputs": [],
   "source": [
    "KNOWN_LIMIT_OF_NON_ABUNDANT_SUMS = 28123\n",
    "SMALLEST_ABUNDANT_NUMBER = 12\n",
    "SMALLEST_ABUNDANT_SUM = 24\n",
    "LARGEST_SUMMAND = KNOWN_LIMIT_OF_NON_ABUNDANT_SUMS - SMALLEST_ABUNDANT_SUM\n",
    "abunds = amicable.get_abundant_numbers(LARGEST_SUMMAND)"
   ]
  },
  {
   "cell_type": "code",
   "execution_count": 175,
   "metadata": {},
   "outputs": [
    {
     "data": {
      "text/plain": [
       "[18, 20, 24, 30, 36, 40, 42, 48, 54, 56, 60, 66, 70, 72, 78, 80, 84, 88, 90]"
      ]
     },
     "execution_count": 175,
     "metadata": {},
     "output_type": "execute_result"
    }
   ],
   "source": [
    "abunds[1:20]"
   ]
  },
  {
   "cell_type": "code",
   "execution_count": 176,
   "metadata": {},
   "outputs": [],
   "source": [
    "diffs = []\n",
    "for i in range(len(abunds)-1):\n",
    "    if i +1 >= len(abunds):\n",
    "        break\n",
    "    diffs.append(abunds[i+1] - abunds[i])"
   ]
  },
  {
   "cell_type": "code",
   "execution_count": 177,
   "metadata": {},
   "outputs": [
    {
     "data": {
      "text/plain": [
       "[6, 2, 4, 6, 6, 4, 2, 6, 6, 2, 4, 6, 4, 2, 6, 2, 4, 4, 2, 6, 4, 2, 2, 4, 4]"
      ]
     },
     "execution_count": 177,
     "metadata": {},
     "output_type": "execute_result"
    }
   ],
   "source": [
    "diffs[0:25]"
   ]
  },
  {
   "cell_type": "markdown",
   "metadata": {},
   "source": [
    "# Exploring the distribution of differences\n"
   ]
  },
  {
   "cell_type": "code",
   "execution_count": 178,
   "metadata": {},
   "outputs": [
    {
     "data": {
      "image/png": "[encoded data removed]",
      "text/plain": [
       "<Figure size 432x288 with 1 Axes>"
      ]
     },
     "metadata": {
      "needs_background": "light"
     },
     "output_type": "display_data"
    }
   ],
   "source": [
    "plt.scatter(list(range(len(diffs))), diffs)\n",
    "plt.show()"
   ]
  },
  {
   "cell_type": "code",
   "execution_count": 169,
   "metadata": {},
   "outputs": [
    {
     "name": "stdout",
     "output_type": "stream",
     "text": [
      "Now working on 6873"
     ]
    },
    {
     "name": "stderr",
     "output_type": "stream",
     "text": [
      "IOPub message rate exceeded.\n",
      "The notebook server will temporarily stop sending output\n",
      "to the client in order to avoid crashing it.\n",
      "To change this limit, set the config variable\n",
      "`--NotebookApp.iopub_msg_rate_limit`.\n",
      "\n",
      "Current values:\n",
      "NotebookApp.iopub_msg_rate_limit=1000.0 (msgs/sec)\n",
      "NotebookApp.rate_limit_window=3.0 (secs)\n",
      "\n"
     ]
    }
   ],
   "source": [
    "sum_abund = []\n",
    "for i in range(0, len(abunds)-1):\n",
    "    print_in_place(\"Now working on %s\" % i)\n",
    "    for j in range(i, len(abunds)-1):\n",
    "        sum_of_abunds = abunds[i] + abunds[j]\n",
    "        sum_abund.append(sum_of_abunds)\n",
    "        if sum_of_abunds > KNOWN_LIMIT_OF_NON_ABUNDANT_SUMS:\n",
    "            break\n"
   ]
  },
  {
   "cell_type": "code",
   "execution_count": 173,
   "metadata": {},
   "outputs": [
    {
     "name": "stdout",
     "output_type": "stream",
     "text": [
      "Now working on 28123\r"
     ]
    }
   ],
   "source": [
    "non_abundant_sums=[]\n",
    "for i in range(KNOWN_LIMIT_OF_NON_ABUNDANT_SUMS+1):\n",
    "    print_in_place(\"Now working on %s\" % i)\n",
    "    if i not in sum_abund:\n",
    "        non_abundant_sums.append(i)"
   ]
  },
  {
   "cell_type": "code",
   "execution_count": 174,
   "metadata": {},
   "outputs": [
    {
     "data": {
      "text/plain": [
       "4179871"
      ]
     },
     "execution_count": 174,
     "metadata": {},
     "output_type": "execute_result"
    }
   ],
   "source": [
    "sum(non_abundant_sums)"
   ]
  }
 ],
 "metadata": {
  "kernelspec": {
   "display_name": "Python 3",
   "language": "python",
   "name": "python3"
  },
  "language_info": {
   "codemirror_mode": {
    "name": "ipython",
    "version": 3
   },
   "file_extension": ".py",
   "mimetype": "text/x-python",
   "name": "python",
   "nbconvert_exporter": "python",
   "pygments_lexer": "ipython3",
   "version": "3.7.3"
  }
 },
 "nbformat": 4,
 "nbformat_minor": 2
}
