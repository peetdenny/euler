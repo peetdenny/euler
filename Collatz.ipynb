{
 "cells": [
  {
   "cell_type": "code",
   "execution_count": 8,
   "metadata": {},
   "outputs": [],
   "source": [
    "def get_next(n):\n",
    "    if n % 2 == 0:\n",
    "        return int(n/2)\n",
    "    else:\n",
    "        return (n *3)+1"
   ]
  },
  {
   "cell_type": "code",
   "execution_count": 11,
   "metadata": {},
   "outputs": [],
   "source": [
    "def get_collatz_sequence(start):\n",
    "    seq=[start]\n",
    "    i=start\n",
    "    while(i != 1):\n",
    "        i = get_next(i)\n",
    "        seq.append(i)\n",
    "\n",
    "    return seq"
   ]
  },
  {
   "cell_type": "code",
   "execution_count": 21,
   "metadata": {},
   "outputs": [
    {
     "name": "stdout",
     "output_type": "stream",
     "text": [
      "Sequence 1 has 1 steps\n",
      "Sequence 2 has 2 steps\n",
      "Sequence 3 has 8 steps\n",
      "Sequence 6 has 9 steps\n",
      "Sequence 7 has 17 steps\n",
      "Sequence 9 has 20 steps\n",
      "Sequence 18 has 21 steps\n",
      "Sequence 25 has 24 steps\n",
      "Sequence 27 has 112 steps\n",
      "Sequence 54 has 113 steps\n",
      "Sequence 73 has 116 steps\n",
      "Sequence 97 has 119 steps\n",
      "Sequence 129 has 122 steps\n",
      "Sequence 171 has 125 steps\n",
      "Sequence 231 has 128 steps\n",
      "Sequence 313 has 131 steps\n",
      "Sequence 327 has 144 steps\n",
      "Sequence 649 has 145 steps\n",
      "Sequence 703 has 171 steps\n",
      "Sequence 871 has 179 steps\n",
      "Sequence 1161 has 182 steps\n",
      "Sequence 2223 has 183 steps\n",
      "Sequence 2463 has 209 steps\n",
      "Sequence 2919 has 217 steps\n",
      "Sequence 3711 has 238 steps\n",
      "Sequence 6171 has 262 steps\n",
      "Sequence 10971 has 268 steps\n",
      "Sequence 13255 has 276 steps\n",
      "Sequence 17647 has 279 steps\n",
      "Sequence 23529 has 282 steps\n",
      "Sequence 26623 has 308 steps\n",
      "Sequence 34239 has 311 steps\n",
      "Sequence 35655 has 324 steps\n",
      "Sequence 52527 has 340 steps\n",
      "Sequence 77031 has 351 steps\n",
      "Sequence 106239 has 354 steps\n",
      "Sequence 142587 has 375 steps\n",
      "Sequence 156159 has 383 steps\n",
      "Sequence 216367 has 386 steps\n",
      "Sequence 230631 has 443 steps\n",
      "Sequence 410011 has 449 steps\n",
      "Sequence 511935 has 470 steps\n",
      "Sequence 626331 has 509 steps\n",
      "Sequence 837799 has 525 steps\n"
     ]
    }
   ],
   "source": [
    "m = 0\n",
    "for i in range(1,1000000):\n",
    "    c = get_collatz_sequence(i)\n",
    "    l = len(c)\n",
    "    if l > m:\n",
    "        m = l\n",
    "        print(\"Sequence %s has %s steps\" % (i, l))"
   ]
  },
  {
   "cell_type": "code",
   "execution_count": null,
   "metadata": {},
   "outputs": [],
   "source": []
  }
 ],
 "metadata": {
  "kernelspec": {
   "display_name": "Python 3",
   "language": "python",
   "name": "python3"
  },
  "language_info": {
   "codemirror_mode": {
    "name": "ipython",
    "version": 3
   },
   "file_extension": ".py",
   "mimetype": "text/x-python",
   "name": "python",
   "nbconvert_exporter": "python",
   "pygments_lexer": "ipython3",
   "version": "3.7.3"
  }
 },
 "nbformat": 4,
 "nbformat_minor": 2
}
